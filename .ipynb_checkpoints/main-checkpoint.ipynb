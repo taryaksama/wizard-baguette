{
 "cells": [
  {
   "cell_type": "markdown",
   "metadata": {
    "id": "uiPVpYHmR-4h"
   },
   "source": [
    "# **main.ipynb**\n",
    "\n",
    "The purpose of this script is to statistically analyze the different card sets of the game *Magic: The Gathering* in order to:\n",
    "\n",
    "1. Identify the most relevant cards in each set.\n",
    "2. Compare the metadata associated with cards across different sets.\n",
    "\n",
    "The goal of the analysis is to objectively determine the intrinsic value of a card *within* and *across* sets.\n",
    "\n",
    "The intended application of this analysis is to leverage this data to improve performance in limited formats (*sealed, draft*)."
   ]
  },
  {
   "cell_type": "markdown",
   "metadata": {
    "id": "7AIp6PnzoCyS"
   },
   "source": [
    "# **Initialisation**"
   ]
  },
  {
   "cell_type": "code",
   "execution_count": 3,
   "metadata": {
    "id": "xVD-mq89_8pC"
   },
   "outputs": [],
   "source": [
    "import os\n",
    "import json\n",
    "import re\n",
    "from pathlib import Path\n",
    "import numpy as np\n",
    "import pandas as pd\n",
    "import matplotlib.pyplot as plt\n",
    "import seaborn as sns\n",
    "\n",
    "import ipywidgets as widgets\n",
    "from IPython.display import display\n",
    "from tqdm import tqdm\n",
    "\n",
    "from set_analyzer import *\n",
    "\n",
    "from sklearn.preprocessing import StandardScaler, MinMaxScaler"
   ]
  },
  {
   "cell_type": "code",
   "execution_count": 4,
   "metadata": {},
   "outputs": [],
   "source": [
    "%load_ext autoreload\n",
    "%autoreload 2"
   ]
  },
  {
   "cell_type": "markdown",
   "metadata": {
    "id": "ISFTRas8R-No"
   },
   "source": [
    "Upload data from JSON (dataset from https://mtgjson.com/)"
   ]
  },
  {
   "cell_type": "code",
   "execution_count": 6,
   "metadata": {
    "id": "5EjwxtYqUfZj"
   },
   "outputs": [],
   "source": [
    "# Set path of the folder containing dataset\n",
    "dataset_FolderPath = Path.cwd().parent / 'datasets' / 'MTG_datasets' # @dev TBC before each use\n",
    "\n",
    "# Set path of the File\n",
    "dataset_FileName = 'AllPrintings.json'\n",
    "dataset_FilePath = dataset_FolderPath / dataset_FileName"
   ]
  },
  {
   "cell_type": "code",
   "execution_count": 7,
   "metadata": {
    "id": "cp1krhHnAWWk"
   },
   "outputs": [],
   "source": [
    "# Load all datasets\n",
    "data = pd.read_json(dataset_FilePath)\n",
    "allSets = data.iloc[2:]['data'] # 2 first rows of JSON files are metadata"
   ]
  },
  {
   "cell_type": "code",
   "execution_count": 8,
   "metadata": {},
   "outputs": [],
   "source": [
    "setCompare = allSets.apply(pd.Series)[['baseSetSize', 'code', 'totalSetSize', 'type', 'name', 'releaseDate']]"
   ]
  },
  {
   "cell_type": "markdown",
   "metadata": {},
   "source": [
    "# **Analysis of one set** "
   ]
  },
  {
   "cell_type": "code",
   "execution_count": 10,
   "metadata": {},
   "outputs": [],
   "source": [
    "set_code = 'OTJ'\n",
    "cards = loadLimitedSet(allSets, set_code)"
   ]
  },
  {
   "cell_type": "markdown",
   "metadata": {
    "id": "FswaBnQYyPq1"
   },
   "source": [
    "## 1) SPEED\n",
    "\n",
    "Format speed can be caracterized by :\n",
    "- the ratio of creatures\n",
    "- the median creature `manaValue`\n",
    "- the median `powerToManaValue` : above 1: creatures hit hard, fast\n",
    "- the board state (see section 2)\n",
    "- the number of interactions (see section 3)"
   ]
  },
  {
   "cell_type": "code",
   "execution_count": 12,
   "metadata": {},
   "outputs": [],
   "source": [
    "limitedCreatureRatio, meanCreatureMV, meanPowerToMV = analyzeSetSpeed(cards)\n",
    "\n",
    "# Add values to setCompare\n",
    "setCompare = setCompare.copy()\n",
    "setCompare.at[set_code, 'limited_CreatureRatio'] = limitedCreatureRatio\n",
    "setCompare.at[set_code, 'limited_meanCreatureManaValue'] = meanCreatureMV\n",
    "setCompare.at[set_code, 'limited_meanCreaturePowerToManaValue'] = meanPowerToMV"
   ]
  },
  {
   "cell_type": "markdown",
   "metadata": {
    "id": "pnWCfzkYQycT"
   },
   "source": [
    "## 2) BOARD STATE\n",
    "\n",
    "- the mean creature `power`\n",
    "- the mean creature `thougness`\n",
    "- the mean `powerToToughness ratio`: above 1: creatures are likely to hit harder and defend badly (and vice versa)\n",
    "- ratio of evasive creatures (ie. 'Flying', 'Trample', 'Menace')"
   ]
  },
  {
   "cell_type": "code",
   "execution_count": 14,
   "metadata": {},
   "outputs": [],
   "source": [
    "meanCreaturePower, meanCreatureToughness, meanPowerToToughness, KWCount, evasiveKWCount = analyzeSetBoardState(cards)\n",
    "\n",
    "# Add values to setCompare\n",
    "setCompare = setCompare.copy()\n",
    "setCompare.at[set_code, 'limited_meanCreaturePower'] = meanCreaturePower\n",
    "setCompare.at[set_code, 'limited_meanCreatureToughness'] = meanCreatureToughness\n",
    "setCompare.at[set_code, 'limited_meanCreaturePowerToToughness'] = meanPowerToToughness\n",
    "setCompare.at[set_code, 'limited_KWCount'] = [KWCount]\n",
    "setCompare.at[set_code, 'limited_evasiveKWCount'] = [evasiveKWCount]"
   ]
  },
  {
   "cell_type": "markdown",
   "metadata": {
    "id": "dWiTKCBpllJo"
   },
   "source": [
    "## 3) FIXING\n",
    "\n",
    "- monocolor-to-multicolor ratio (lands excluded)\n",
    "- multi-pip ratio : cards with more that one colored pip in mana cost\n",
    "- ratio of mana producer + types (lands, manadorks, manarocks, treasures)\n",
    "- type of mana produced (TBD)"
   ]
  },
  {
   "cell_type": "code",
   "execution_count": 16,
   "metadata": {},
   "outputs": [],
   "source": [
    "monocolorToMulticolorRatio, multiPipRatio, manaProducerRatio, nonLand_manaProducerRatio, manaProducerTypes = analyzeSetFixing(cards)\n",
    "\n",
    "# Add values to setCompare\n",
    "setCompare = setCompare.copy()\n",
    "setCompare.at[set_code, 'limited_MonoToMulticolorRatio'] = monocolorToMulticolorRatio\n",
    "setCompare.at[set_code, 'limited_MultiPipRatio'] = multiPipRatio\n",
    "setCompare.at[set_code, 'limited_manaProducerRatio'] = manaProducerRatio\n",
    "setCompare.at[set_code, 'limited_nonLand_manaProducerRatio'] = nonLand_manaProducerRatio\n",
    "setCompare.at[set_code, 'limited_manaProducerTypes'] = [manaProducerTypes]"
   ]
  },
  {
   "cell_type": "markdown",
   "metadata": {
    "id": "iVbwhExelPaN"
   },
   "source": [
    "## 4) Interactions (TBD)\n",
    "\n",
    "a quel point le set est interactif ?\n",
    "000 - définir ce qu'est une interaction\n",
    "- ratio de permanents\n",
    "- pourcentage d'interaction\n",
    "- la \"vitesse\" de l'interaction = distribution de mana value des sorts interactifs\n",
    "- type d'interaction : single-target removal + combat trick\n",
    "- color pie"
   ]
  },
  {
   "cell_type": "code",
   "execution_count": 18,
   "metadata": {
    "id": "4kutWBahZD1Y"
   },
   "outputs": [
    {
     "data": {
      "text/plain": [
       "\"\\n# ratio of permanents\\n\\ndef checklist(items_wanted, items_tbc):\\n  return any(item in items_wanted for item in items_tbc)\\n\\npermanent_index = [item for item in type_index if (item !='Instant' and item!='Sorcery')]\\ncards['types'][cards['types'].apply(lambda x: checklist(x,permanent_index)==False)] #non-permanent\\ncards['types'][cards['types'].apply(lambda x: checklist(x,permanent_index)==True)]  #permanents\\n\\nprint('permanent ratio = ' + str(len(cards['types'][cards['types'].apply(lambda x: checklist(x,permanent_index)==True)])/len(cards)*100) + ' %')\\n\\n# get interactive cards\\n\\ninteraction_list = [\\n    'destroy',\\n    'exile',\\n    'counter',\\n    'target'\\n]\\n\\ndef interactive_card(str):\\n  if any(word in str for word in interaction_list):\\n    return True\\n  else:\\n    return False\\n\\ncards[cards['text'].apply(interactive_card)]\\n\""
      ]
     },
     "execution_count": 18,
     "metadata": {},
     "output_type": "execute_result"
    }
   ],
   "source": [
    "\"\"\"\n",
    "# ratio of permanents\n",
    "\n",
    "def checklist(items_wanted, items_tbc):\n",
    "  return any(item in items_wanted for item in items_tbc)\n",
    "\n",
    "permanent_index = [item for item in type_index if (item !='Instant' and item!='Sorcery')]\n",
    "cards['types'][cards['types'].apply(lambda x: checklist(x,permanent_index)==False)] #non-permanent\n",
    "cards['types'][cards['types'].apply(lambda x: checklist(x,permanent_index)==True)]  #permanents\n",
    "\n",
    "print('permanent ratio = ' + str(len(cards['types'][cards['types'].apply(lambda x: checklist(x,permanent_index)==True)])/len(cards)*100) + ' %')\n",
    "\n",
    "# get interactive cards\n",
    "\n",
    "interaction_list = [\n",
    "    'destroy',\n",
    "    'exile',\n",
    "    'counter',\n",
    "    'target'\n",
    "]\n",
    "\n",
    "def interactive_card(str):\n",
    "  if any(word in str for word in interaction_list):\n",
    "    return True\n",
    "  else:\n",
    "    return False\n",
    "\n",
    "cards[cards['text'].apply(interactive_card)]\n",
    "\"\"\""
   ]
  },
  {
   "cell_type": "markdown",
   "metadata": {
    "id": "Rmu_nyWmq2ot"
   },
   "source": [
    "# **Comparing sets**"
   ]
  },
  {
   "cell_type": "code",
   "execution_count": 121,
   "metadata": {},
   "outputs": [],
   "source": [
    "last5_sets = ['DFT', 'FDN', 'DSK', 'BLB', 'OTJ']\n",
    "standard_sets = last5_sets + ['MKM', 'LCI', 'WOE', 'MOM', 'ONE', 'BRO', 'DMU']\n",
    "nonstandard_sets = ['LTR', 'MH3', 'CMM']\n",
    "\n",
    "#sets = last5_sets\n",
    "sets = standard_sets\n",
    "#sets = standard_sets + nonstandard_sets\n",
    "#sets = allSets.index.to_list()"
   ]
  },
  {
   "cell_type": "code",
   "execution_count": 145,
   "metadata": {},
   "outputs": [
    {
     "name": "stderr",
     "output_type": "stream",
     "text": [
      "100%|██████████| 12/12 [00:00<00:00, 15.23it/s]\n"
     ]
    }
   ],
   "source": [
    "for set_code in tqdm(sets):   \n",
    "    cards = loadLimitedSet(allSets, set_code)\n",
    "    limitedCreatureRatio, meanCreatureMV, meanPowerToMV = analyzeSetSpeed(cards)\n",
    "    meanCreaturePower, meanCreatureToughness, meanPowerToToughness, KWCount, evasiveKWCount = analyzeSetBoardState(cards)\n",
    "    monocolorToMulticolorRatio, multiPipRatio, manaProducerRatio, nonLand_manaProducerRatio, manaProducerTypes = analyzeSetFixing(cards)\n",
    "\n",
    "    # Add values to setCompare\n",
    "    setCompare = setCompare.copy()\n",
    "    setCompare.at[set_code, 'limited_CreatureRatio'] = limitedCreatureRatio\n",
    "    setCompare.at[set_code, 'limited_meanCreatureManaValue'] = meanCreatureMV\n",
    "    setCompare.at[set_code, 'limited_meanCreaturePowerToManaValue'] = meanPowerToMV\n",
    "    setCompare.at[set_code, 'limited_meanCreaturePower'] = meanCreaturePower\n",
    "    setCompare.at[set_code, 'limited_meanCreatureToughness'] = meanCreatureToughness\n",
    "    setCompare.at[set_code, 'limited_meanCreaturePowerToToughness'] = meanPowerToToughness\n",
    "    setCompare.at[set_code, 'limited_KWCount'] = [KWCount]\n",
    "    setCompare.at[set_code, 'limited_evasiveKWCount'] = [evasiveKWCount]\n",
    "    setCompare.at[set_code, 'limited_MonoToMulticolorRatio'] = monocolorToMulticolorRatio\n",
    "    setCompare.at[set_code, 'limited_MultiPipRatio'] = multiPipRatio\n",
    "    setCompare.at[set_code, 'limited_manaProducerRatio'] = manaProducerRatio\n",
    "    setCompare.at[set_code, 'limited_nonLand_manaProducerRatio'] = nonLand_manaProducerRatio\n",
    "    setCompare.at[set_code, 'limited_manaProducerTypes'] = [manaProducerTypes]"
   ]
  },
  {
   "cell_type": "code",
   "execution_count": 147,
   "metadata": {},
   "outputs": [
    {
     "data": {
      "text/plain": [
       "[{'Flying': 16, 'Trample': 2, 'Menace': 0}]"
      ]
     },
     "execution_count": 147,
     "metadata": {},
     "output_type": "execute_result"
    }
   ],
   "source": [
    "set_sample = setCompare.loc[sets].sort_values(by='releaseDate', ascending=False)"
   ]
  },
  {
   "cell_type": "code",
   "execution_count": 127,
   "metadata": {},
   "outputs": [],
   "source": [
    "# Normalize with Z-score scaler (can also use Min-Max scaler)\n",
    "scaler = StandardScaler()\n",
    "set_sample_norm = set_sample.copy()\n",
    "set_sample_norm[set_sample_norm.select_dtypes(include='float').columns] = scaler.fit_transform(\n",
    "    set_sample_norm[set_sample_norm.select_dtypes(include='float').columns])"
   ]
  },
  {
   "cell_type": "code",
   "execution_count": 133,
   "metadata": {},
   "outputs": [
    {
     "data": {
      "application/vnd.jupyter.widget-view+json": {
       "model_id": "c4fe0158db6046fcb18a9160cf24f9bf",
       "version_major": 2,
       "version_minor": 0
      },
      "text/plain": [
       "interactive(children=(Dropdown(description='Column:', options=('baseSetSize', 'code', 'totalSetSize', 'type', …"
      ]
     },
     "execution_count": 133,
     "metadata": {},
     "output_type": "execute_result"
    }
   ],
   "source": [
    "# Function to update the plot\n",
    "def update_plot(column_name, highlight_index=None):\n",
    "    # Get the column index from the column name\n",
    "    column_index = set_sample_norm.columns.get_loc(column_name)\n",
    "    \n",
    "    # Get the sorted data for plotting\n",
    "    s = set_sample_norm.iloc[:, column_index].sort_values(ascending=False)\n",
    "    \n",
    "    # Create the plot\n",
    "    fig, ax = plt.subplots(1, 1, figsize=(6, 4))\n",
    "    \n",
    "    # Plot all bars\n",
    "    sns.barplot(x=s.index, y=s.values, ax=ax, color='blue')\n",
    "    \n",
    "    # Highlight the specific index if specified\n",
    "    if highlight_index is not None and highlight_index in s.index:\n",
    "        highlight_value = s[highlight_index]\n",
    "        ax.bar(highlight_index, highlight_value, color='red')  # Change color to red for highlight\n",
    "    \n",
    "    # Set axis labels and rotate x-axis labels for better visibility\n",
    "    ax.set_ylabel(column_name)\n",
    "    plt.xticks(rotation=90)\n",
    "\n",
    "    plt.show()\n",
    "\n",
    "# Create a dropdown widget to select the column name\n",
    "column_selector = widgets.Dropdown(\n",
    "    options=set_sample_norm.columns.tolist(),  # Use column names instead of indices\n",
    "    value=set_sample_norm.columns[0],  # Default to the first column\n",
    "    description='Column:',\n",
    "    style={'description_width': 'initial'}\n",
    ")\n",
    "\n",
    "# Create a text box or dropdown widget to select which index to highlight (optional)\n",
    "highlight_selector = widgets.Text(\n",
    "    value='',  # Default to empty (no highlight)\n",
    "    description='Highlight Index:',\n",
    "    style={'description_width': 'initial'}\n",
    ")\n",
    "\n",
    "# Display the widgets and update the plot dynamically\n",
    "widgets.interactive(update_plot, column_name=column_selector, highlight_index=highlight_selector)\n"
   ]
  },
  {
   "cell_type": "code",
   "execution_count": null,
   "metadata": {},
   "outputs": [],
   "source": []
  }
 ],
 "metadata": {
  "colab": {
   "authorship_tag": "ABX9TyPy2LjhJnPyRHGdMfqiDqIp",
   "mount_file_id": "15DupMAgsgmzLDVl_dxBVRIcCJ9YJg-H6",
   "private_outputs": true,
   "provenance": []
  },
  "kernelspec": {
   "display_name": "Python [conda env:base] *",
   "language": "python",
   "name": "conda-base-py"
  },
  "language_info": {
   "codemirror_mode": {
    "name": "ipython",
    "version": 3
   },
   "file_extension": ".py",
   "mimetype": "text/x-python",
   "name": "python",
   "nbconvert_exporter": "python",
   "pygments_lexer": "ipython3",
   "version": "3.12.8"
  }
 },
 "nbformat": 4,
 "nbformat_minor": 4
}
