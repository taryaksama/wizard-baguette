{
 "cells": [
  {
   "cell_type": "markdown",
   "metadata": {
    "id": "uiPVpYHmR-4h"
   },
   "source": [
    "# **Set Analyzer**\n",
    "\n",
    "Le but de ce script est d'analyser statistiquement les différents set de carte du jeu *Magic the Gathering* afin de :\n",
    "\n",
    "\n",
    "1.   Déterminer les cartes les plus pertinentes dans chaque set\n",
    "2.   Comparer les métadonnées liées aux cartes entre chaque set\n",
    "\n",
    "L'objet de l'analyse est de pouvoir objectiver la valeur intrinsèque d'une carte *intra* et *inter* set.\n",
    "\n",
    "L'application visée est l'utilisation de ses données afin de performer dans les formats limités (*sealed, draft*)\n",
    "\n",
    "\n"
   ]
  },
  {
   "cell_type": "markdown",
   "metadata": {
    "id": "dvx9PeP9ojI8"
   },
   "source": [
    "***draft***\n",
    "\n",
    "quelques métadonnées utiles\n",
    "\n",
    "**intraset**\n",
    "- nombre de cartes + ratios\n",
    "- card type : couleur, créature / non-créature, rareté\n",
    "- cout : valeur de mana\n",
    "- board : power, toughness, evasion (en fonction de keywords: flying, trample, menace, ...)\n",
    "- interaction : (en fonction de keywords: counter, return, deal damage, ...)\n",
    "- mana fixing : type de manafix (en fonction de keywords: dork, rock, treasures, ...)\n",
    "\n",
    "**interset**\n",
    "- replacer chacune des données précédentes par rapport aux précédents sets\n",
    "- évaluer : vitesse du set, créatures fragiles, propension de bombes, propension d'interaction, potentiel de fixing, etc\n",
    "\n",
    "\n",
    "\n"
   ]
  },
  {
   "cell_type": "markdown",
   "metadata": {
    "id": "7AIp6PnzoCyS"
   },
   "source": [
    "# **Initialisation**"
   ]
  },
  {
   "cell_type": "code",
   "execution_count": 32,
   "metadata": {
    "id": "xVD-mq89_8pC"
   },
   "outputs": [],
   "source": [
    "# Import librairies to use in the code\n",
    "\n",
    "import os\n",
    "import json\n",
    "import numpy as np\n",
    "import pandas as pd\n",
    "import matplotlib.pyplot as plt\n",
    "# import seaborn as sns\n",
    "\n",
    "# Import widgets librairies\n",
    "import ipywidgets as widgets\n",
    "from IPython.display import display"
   ]
  },
  {
   "cell_type": "markdown",
   "metadata": {
    "id": "ISFTRas8R-No"
   },
   "source": [
    "Upload data from JSON (dataset from https://mtgjson.com/)"
   ]
  },
  {
   "cell_type": "code",
   "execution_count": 43,
   "metadata": {},
   "outputs": [
    {
     "name": "stdout",
     "output_type": "stream",
     "text": [
      "[Errno 2] No such file or directory: './Desktop/Data Analysis for Laure/MTG_datasets'\n",
      "/Users/Laure/Desktop/Data analysis for Laure/MTG_datasets\n",
      "AllPrintings.json\r\n"
     ]
    }
   ],
   "source": [
    "# Ensure the folder starting point\n",
    "%cd ./Desktop/\"Data Analysis for Laure\"/MTG_datasets"
   ]
  },
  {
   "cell_type": "code",
   "execution_count": 49,
   "metadata": {
    "id": "5EjwxtYqUfZj"
   },
   "outputs": [],
   "source": [
    "# Set path of the folder containing dataset\n",
    "datasetFolderPath = './' # @dev used for local configuration\n",
    "# datasetFolderPath = \"/datasets/\" #@dev TBC before each use\n",
    "\n",
    "# Set path of the File\n",
    "datasetFileName = 'AllPrintings.json'\n",
    "datasetFilePath = datasetFolderPath + datasetFileName"
   ]
  },
  {
   "cell_type": "code",
   "execution_count": 64,
   "metadata": {
    "id": "cp1krhHnAWWk"
   },
   "outputs": [],
   "source": [
    "# load all dataset\n",
    "data = pd.read_json(datasetFilePath)\n",
    "allSets = data.iloc[2:]['data'] # 2 first rows of JSON files are metadata"
   ]
  },
  {
   "cell_type": "code",
   "execution_count": 99,
   "metadata": {},
   "outputs": [],
   "source": [
    "setCompare = allSets.apply(pd.Series)[['baseSetSize', 'code', 'totalSetSize', 'type', 'name', 'releaseDate']]"
   ]
  },
  {
   "cell_type": "markdown",
   "metadata": {},
   "source": [
    "## Load Limited dataset function"
   ]
  },
  {
   "cell_type": "code",
   "execution_count": 84,
   "metadata": {},
   "outputs": [],
   "source": [
    "def loadLimitedSet(_setCode):\n",
    "    \"\"\"\n",
    "    Loads and processes a subset of Magic: The Gathering cards from a given set code.\n",
    "    \n",
    "    Parameters:\n",
    "    _setCode (str): The unique identifier of the card set to be loaded.\n",
    "    \n",
    "    Returns:\n",
    "    pd.DataFrame: A DataFrame containing the cleaned and filtered card data.\n",
    "    \n",
    "    Functionality:\n",
    "    1. Defines relevant card features to be analyzed, including name, keywords, mana cost, color identity, \n",
    "       power, toughness, rarity, types, and text.\n",
    "    2. Loads the card data from the `allSets` dataset based on the given `_setCode`.\n",
    "    3. Converts the extracted data into a Pandas DataFrame and selects only the first `baseSetSize` cards.\n",
    "    4. Cleans numeric fields ('manaValue', 'power', 'toughness') by converting them to numeric values, \n",
    "       coercing invalid entries to NaN.\n",
    "    5. Filters the dataset to include only cards with rarities 'common' or 'uncommon'.\n",
    "    6. Returns the processed DataFrame for further analysis.\n",
    "    \"\"\"\n",
    "    \n",
    "    # Define cards features to be analyzed\n",
    "    features_analyzed = [\n",
    "        'name',\n",
    "        'keywords',\n",
    "        'manaValue',\n",
    "        'colorIdentity',\n",
    "        'power',\n",
    "        'toughness',\n",
    "        'rarity',\n",
    "        'types',\n",
    "        'text']\n",
    "\n",
    "    # Load cards\n",
    "    df = pd.DataFrame.from_dict(allSets.loc[_setCode]['cards'])\n",
    "    cards = df.loc[:allSets.loc[_setCode]['baseSetSize']-1, features_analyzed]\n",
    "    \n",
    "    # Clean numeric data\n",
    "    cards[['manaValue', 'power', 'toughness']] = cards[['manaValue', 'power', 'toughness']].apply(pd.to_numeric, errors='coerce')\n",
    "    \n",
    "    # Keep only common and uncommon cards\n",
    "    cards = cards[cards['rarity'].isin(['common', 'uncommon'])]\n",
    "    \n",
    "    return cards"
   ]
  },
  {
   "cell_type": "code",
   "execution_count": 96,
   "metadata": {},
   "outputs": [
    {
     "data": {
      "text/html": [
       "<div>\n",
       "<style scoped>\n",
       "    .dataframe tbody tr th:only-of-type {\n",
       "        vertical-align: middle;\n",
       "    }\n",
       "\n",
       "    .dataframe tbody tr th {\n",
       "        vertical-align: top;\n",
       "    }\n",
       "\n",
       "    .dataframe thead th {\n",
       "        text-align: right;\n",
       "    }\n",
       "</style>\n",
       "<table border=\"1\" class=\"dataframe\">\n",
       "  <thead>\n",
       "    <tr style=\"text-align: right;\">\n",
       "      <th></th>\n",
       "      <th>name</th>\n",
       "      <th>keywords</th>\n",
       "      <th>manaValue</th>\n",
       "      <th>colorIdentity</th>\n",
       "      <th>power</th>\n",
       "      <th>toughness</th>\n",
       "      <th>rarity</th>\n",
       "      <th>types</th>\n",
       "      <th>text</th>\n",
       "    </tr>\n",
       "  </thead>\n",
       "  <tbody>\n",
       "    <tr>\n",
       "      <th>2</th>\n",
       "      <td>Armored Armadillo</td>\n",
       "      <td>[Ward]</td>\n",
       "      <td>1.0</td>\n",
       "      <td>[W]</td>\n",
       "      <td>0.0</td>\n",
       "      <td>4.0</td>\n",
       "      <td>common</td>\n",
       "      <td>[Creature]</td>\n",
       "      <td>Ward {1} (Whenever this creature becomes the t...</td>\n",
       "    </tr>\n",
       "    <tr>\n",
       "      <th>4</th>\n",
       "      <td>Bounding Felidar</td>\n",
       "      <td>[Saddle]</td>\n",
       "      <td>6.0</td>\n",
       "      <td>[W]</td>\n",
       "      <td>4.0</td>\n",
       "      <td>7.0</td>\n",
       "      <td>uncommon</td>\n",
       "      <td>[Creature]</td>\n",
       "      <td>Whenever Bounding Felidar attacks while saddle...</td>\n",
       "    </tr>\n",
       "    <tr>\n",
       "      <th>5</th>\n",
       "      <td>Bovine Intervention</td>\n",
       "      <td>NaN</td>\n",
       "      <td>2.0</td>\n",
       "      <td>[W]</td>\n",
       "      <td>NaN</td>\n",
       "      <td>NaN</td>\n",
       "      <td>uncommon</td>\n",
       "      <td>[Instant]</td>\n",
       "      <td>Destroy target artifact or creature. Its contr...</td>\n",
       "    </tr>\n",
       "    <tr>\n",
       "      <th>6</th>\n",
       "      <td>Bridled Bighorn</td>\n",
       "      <td>[Saddle, Vigilance]</td>\n",
       "      <td>4.0</td>\n",
       "      <td>[W]</td>\n",
       "      <td>3.0</td>\n",
       "      <td>4.0</td>\n",
       "      <td>common</td>\n",
       "      <td>[Creature]</td>\n",
       "      <td>Vigilance\\nWhenever Bridled Bighorn attacks wh...</td>\n",
       "    </tr>\n",
       "    <tr>\n",
       "      <th>9</th>\n",
       "      <td>Eriette's Lullaby</td>\n",
       "      <td>NaN</td>\n",
       "      <td>2.0</td>\n",
       "      <td>[W]</td>\n",
       "      <td>NaN</td>\n",
       "      <td>NaN</td>\n",
       "      <td>common</td>\n",
       "      <td>[Sorcery]</td>\n",
       "      <td>Destroy target tapped creature. You gain 2 life.</td>\n",
       "    </tr>\n",
       "    <tr>\n",
       "      <th>...</th>\n",
       "      <td>...</td>\n",
       "      <td>...</td>\n",
       "      <td>...</td>\n",
       "      <td>...</td>\n",
       "      <td>...</td>\n",
       "      <td>...</td>\n",
       "      <td>...</td>\n",
       "      <td>...</td>\n",
       "      <td>...</td>\n",
       "    </tr>\n",
       "    <tr>\n",
       "      <th>281</th>\n",
       "      <td>Swamp</td>\n",
       "      <td>NaN</td>\n",
       "      <td>0.0</td>\n",
       "      <td>[B]</td>\n",
       "      <td>NaN</td>\n",
       "      <td>NaN</td>\n",
       "      <td>common</td>\n",
       "      <td>[Land]</td>\n",
       "      <td>({T}: Add {B}.)</td>\n",
       "    </tr>\n",
       "    <tr>\n",
       "      <th>282</th>\n",
       "      <td>Mountain</td>\n",
       "      <td>NaN</td>\n",
       "      <td>0.0</td>\n",
       "      <td>[R]</td>\n",
       "      <td>NaN</td>\n",
       "      <td>NaN</td>\n",
       "      <td>common</td>\n",
       "      <td>[Land]</td>\n",
       "      <td>({T}: Add {R}.)</td>\n",
       "    </tr>\n",
       "    <tr>\n",
       "      <th>283</th>\n",
       "      <td>Mountain</td>\n",
       "      <td>NaN</td>\n",
       "      <td>0.0</td>\n",
       "      <td>[R]</td>\n",
       "      <td>NaN</td>\n",
       "      <td>NaN</td>\n",
       "      <td>common</td>\n",
       "      <td>[Land]</td>\n",
       "      <td>({T}: Add {R}.)</td>\n",
       "    </tr>\n",
       "    <tr>\n",
       "      <th>284</th>\n",
       "      <td>Forest</td>\n",
       "      <td>NaN</td>\n",
       "      <td>0.0</td>\n",
       "      <td>[G]</td>\n",
       "      <td>NaN</td>\n",
       "      <td>NaN</td>\n",
       "      <td>common</td>\n",
       "      <td>[Land]</td>\n",
       "      <td>({T}: Add {G}.)</td>\n",
       "    </tr>\n",
       "    <tr>\n",
       "      <th>285</th>\n",
       "      <td>Forest</td>\n",
       "      <td>NaN</td>\n",
       "      <td>0.0</td>\n",
       "      <td>[G]</td>\n",
       "      <td>NaN</td>\n",
       "      <td>NaN</td>\n",
       "      <td>common</td>\n",
       "      <td>[Land]</td>\n",
       "      <td>({T}: Add {G}.)</td>\n",
       "    </tr>\n",
       "  </tbody>\n",
       "</table>\n",
       "<p>206 rows × 9 columns</p>\n",
       "</div>"
      ],
      "text/plain": [
       "                    name             keywords  manaValue colorIdentity  power  \\\n",
       "2      Armored Armadillo               [Ward]        1.0           [W]    0.0   \n",
       "4       Bounding Felidar             [Saddle]        6.0           [W]    4.0   \n",
       "5    Bovine Intervention                  NaN        2.0           [W]    NaN   \n",
       "6        Bridled Bighorn  [Saddle, Vigilance]        4.0           [W]    3.0   \n",
       "9      Eriette's Lullaby                  NaN        2.0           [W]    NaN   \n",
       "..                   ...                  ...        ...           ...    ...   \n",
       "281                Swamp                  NaN        0.0           [B]    NaN   \n",
       "282             Mountain                  NaN        0.0           [R]    NaN   \n",
       "283             Mountain                  NaN        0.0           [R]    NaN   \n",
       "284               Forest                  NaN        0.0           [G]    NaN   \n",
       "285               Forest                  NaN        0.0           [G]    NaN   \n",
       "\n",
       "     toughness    rarity       types  \\\n",
       "2          4.0    common  [Creature]   \n",
       "4          7.0  uncommon  [Creature]   \n",
       "5          NaN  uncommon   [Instant]   \n",
       "6          4.0    common  [Creature]   \n",
       "9          NaN    common   [Sorcery]   \n",
       "..         ...       ...         ...   \n",
       "281        NaN    common      [Land]   \n",
       "282        NaN    common      [Land]   \n",
       "283        NaN    common      [Land]   \n",
       "284        NaN    common      [Land]   \n",
       "285        NaN    common      [Land]   \n",
       "\n",
       "                                                  text  \n",
       "2    Ward {1} (Whenever this creature becomes the t...  \n",
       "4    Whenever Bounding Felidar attacks while saddle...  \n",
       "5    Destroy target artifact or creature. Its contr...  \n",
       "6    Vigilance\\nWhenever Bridled Bighorn attacks wh...  \n",
       "9     Destroy target tapped creature. You gain 2 life.  \n",
       "..                                                 ...  \n",
       "281                                    ({T}: Add {B}.)  \n",
       "282                                    ({T}: Add {R}.)  \n",
       "283                                    ({T}: Add {R}.)  \n",
       "284                                    ({T}: Add {G}.)  \n",
       "285                                    ({T}: Add {G}.)  \n",
       "\n",
       "[206 rows x 9 columns]"
      ]
     },
     "execution_count": 96,
     "metadata": {},
     "output_type": "execute_result"
    }
   ],
   "source": [
    "_setCode = 'OTJ'\n",
    "cards = loadLimitedSet(_setCode)\n",
    "cards"
   ]
  },
  {
   "cell_type": "markdown",
   "metadata": {
    "id": "FswaBnQYyPq1"
   },
   "source": [
    "## 1) Limited format speed\n",
    "\n",
    "Format speed can be caracterized by :\n",
    "- the ratio of creatures: set a grade from 100-90% == S ; 90-70% == A ; 70-50% == B ; 50-30% == C ; 30-10% == D ; 10-0% == E\n",
    "- the mean creature `manaValue`\n",
    "- the mean `powerToManaValue` : above 1: creatures hit hard, fast\n",
    "- the board state (see section 2)\n",
    "- the number of interactions (see section 3)"
   ]
  },
  {
   "cell_type": "code",
   "execution_count": 111,
   "metadata": {
    "id": "qv9uz168yXPH"
   },
   "outputs": [],
   "source": [
    "# Filter for 'Creature' only\n",
    "cardsCreatureFiltered = cards[cards['types'].apply(lambda x: 'Creature' in x)]\n",
    "cardsCreatureFiltered = cardsCreatureFiltered.copy()\n",
    "\n",
    "# Ratio of creatures\n",
    "nTot = len(cards)\n",
    "nCreature = len(cardsCreatureFiltered)\n",
    "limitedCreatureRatio = (nCreature / nTot) * 100 # in percentage\n",
    "# add a grade (@dev TBD)\n",
    "\n",
    "# Creature Manavalue\n",
    "meanCreatureMV = cardsCreatureFiltered['manaValue'].mean()\n",
    "cardsCreatureFiltered['normalizedCreatureManaValue'] = cardsCreatureFiltered['manaValue'] - meanCreatureMV # normalized columns\n",
    "\n",
    "# Creature Power to ManaValue\n",
    "cardsCreatureFiltered['powerToManaValue'] = cardsCreatureFiltered['power'] / cardsCreatureFiltered['manaValue']\n",
    "meanPowerToMV = cardsCreatureFiltered['powerToManaValue'].mean()\n",
    "cardsCreatureFiltered['normalizedPowerToManaValue'] = cardsCreatureFiltered['power'] - meanPowerToMV # normalized columns"
   ]
  },
  {
   "cell_type": "code",
   "execution_count": 114,
   "metadata": {},
   "outputs": [],
   "source": [
    "# Add values to setCompare\n",
    "setCompare = setCompare.copy()\n",
    "setCompare.at[_setCode, 'limited_CreatureRatio'] = limitedCreatureRatio\n",
    "setCompare.at[_setCode, 'limited_meanCreatureManaValue'] = meanCreatureMV\n",
    "setCompare.at[_setCode, 'limited_meanCreaturePowerToManaValue'] = meanPowerToMV"
   ]
  },
  {
   "cell_type": "code",
   "execution_count": 86,
   "metadata": {
    "id": "ZeFG5fvz6K4M"
   },
   "outputs": [
    {
     "name": "stdout",
     "output_type": "stream",
     "text": [
      "ratio of creatures = 51.45631067961165 %\n"
     ]
    },
    {
     "data": {
      "image/png": "[encoded data removed]",
      "text/plain": [
       "<Figure size 432x288 with 2 Axes>"
      ]
     },
     "metadata": {
      "needs_background": "light"
     },
     "output_type": "display_data"
    }
   ],
   "source": [
    "# *** FIGURES ***\n",
    "\n",
    "# 1a)\n",
    "print('ratio of creatures = ' + str(ratio_unco_crea) + ' %')\n",
    "\n",
    "# 1c)\n",
    "plt.subplot(2,1,1)\n",
    "plt.hist(cards_unco_crea['manaValue'], bins=np.arange(-0.5,max(cards_unco_crea['manaValue'])+0.5,1))\n",
    "\n",
    "plt.xlabel('manaValue')\n",
    "plt.ylabel('number or cards')\n",
    "\n",
    "plt.axvline(manaValue_mean, ls='--', color='r')\n",
    "plt.text(6,20,'mean value = '+str(manaValue_mean), color='r')\n",
    "\n",
    "# 1d)\n",
    "plt.subplot(2,1,2)\n",
    "# plt.plot(cards_unco_crea['power'], cards_unco_crea['manaValue'], 'o', color='b')\n",
    "counts = cards_unco_crea.groupby(['manaValue', 'power']).size().reset_index(name='count')\n",
    "plt.scatter(counts['manaValue'], counts['power'], s=counts['count']*100, alpha=0.5, edgecolors='w', color='b')\n",
    "\n",
    "plt.xlabel('manaValue')\n",
    "plt.ylabel('power')\n",
    "for i in range(len(counts)):\n",
    "    plt.text(counts['manaValue'][i], counts['power'][i], str(counts['count'][i]), fontsize=12, ha='center', va='center')\n",
    "\n",
    "plt.plot(range(0,7), range(0,7), color='r', ls='--')\n",
    "\n",
    "plt.show()"
   ]
  },
  {
   "cell_type": "markdown",
   "metadata": {
    "id": "pnWCfzkYQycT"
   },
   "source": [
    "## 2) BOARD STATE\n",
    "\n",
    "- the mean creature `power`\n",
    "- the mean creature `thougness`\n",
    "- the mean `powerToToughness ratio`: above 1: creatures are likely to hit harder and defend badly (and vice versa)\n",
    "- correlated : `toughnessWallValue` : the `toughness` value for which 70% of creatures' `power` is below\n",
    "- ratio of evasive creatures ('Flying', 'Trample', 'Menace')\n",
    "- ratio of creatures ensuring survival ('Lifelink')"
   ]
  },
  {
   "cell_type": "code",
   "execution_count": 87,
   "metadata": {
    "id": "SKazKGEQThz-"
   },
   "outputs": [
    {
     "data": {
      "text/plain": [
       "Flying     16\n",
       "Trample     4\n",
       "Menace      1\n",
       "Name: keywords, dtype: int64"
      ]
     },
     "execution_count": 87,
     "metadata": {},
     "output_type": "execute_result"
    }
   ],
   "source": [
    "# 2) BOARD STATE\n",
    "\n",
    "# 2a) creatures' power & toughness\n",
    "[power_mean, toughness_mean] = cards_unco_crea[['power', 'toughness']].mean()\n",
    "[power_std, toughness_std] = cards_unco_crea[['power', 'toughness']].std()\n",
    "\n",
    "# 2b) importance du combat\n",
    "\n",
    "# 2c) evasion\n",
    "all_unique_keywords = list(cards_unco_crea['keywords'].explode().unique())\n",
    "all_unique_keywords.remove(np.nan)\n",
    "evasiveKW = ['Flying', 'Trample', 'Menace']\n",
    "\n",
    "df = cards_unco_crea\n",
    "exploded_df = df.explode('keywords')\n",
    "filtered_df = exploded_df[exploded_df['keywords'].isin(targeted_keywords)]\n",
    "filtered_df['keywords'].value_counts()"
   ]
  },
  {
   "cell_type": "code",
   "execution_count": 88,
   "metadata": {
    "id": "Ulq9UGQUUMYX"
   },
   "outputs": [
    {
     "data": {
      "text/plain": [
       "[<matplotlib.lines.Line2D at 0x7f8610c2fdf0>]"
      ]
     },
     "execution_count": 88,
     "metadata": {},
     "output_type": "execute_result"
    },
    {
     "data": {
      "image/png": "[encoded data removed]",
      "text/plain": [
       "<Figure size 432x432 with 2 Axes>"
      ]
     },
     "metadata": {
      "needs_background": "light"
     },
     "output_type": "display_data"
    },
    {
     "data": {
      "image/png": "[encoded data removed]",
      "text/plain": [
       "<Figure size 432x432 with 2 Axes>"
      ]
     },
     "metadata": {
      "needs_background": "light"
     },
     "output_type": "display_data"
    }
   ],
   "source": [
    "# *** FIGURES ***\n",
    "\n",
    "# 2a) + 2b)\n",
    "data_power = cards_unco_crea['power']\n",
    "data_toughness = cards_unco_crea['toughness']\n",
    "max_of_series = max(max(cards_unco_crea['power']), max(cards_unco_crea['toughness']))\n",
    "bins = np.arange(-0.5,max_of_series+0.5,1)\n",
    "\n",
    "fig1, ax1 = plt.subplots(1, 1, figsize=(6, 6))\n",
    "ax2 = ax1.twinx()\n",
    "plt.hist(data_power, bins=bins, color='skyblue')\n",
    "[counts_power, edges_power] = np.histogram(data_power, bins=bins)\n",
    "cum_power = np.cumsum(counts_power) / np.sum(counts_power) * 100\n",
    "ax2.plot(np.arange(0,max_of_series,1), cum_power, ls='--', color='b')\n",
    "\n",
    "fig2, ax1 = plt.subplots(1, 1, figsize=(6, 6))\n",
    "ax2 = ax1.twinx()\n",
    "plt.hist(data_toughness, bins=bins, color='salmon')\n",
    "[counts_toughness, edges_toughness] = np.histogram(data_toughness, bins=bins)\n",
    "cum_toughness = np.cumsum(counts_toughness) / np.sum(counts_toughness) * 100\n",
    "ax2.plot(np.arange(0,max_of_series,1), cum_toughness, ls='--', color='r')\n",
    "\n",
    "\n",
    "\n",
    "\n",
    "# fig, ax = plt.subplots(figsize=(10, 8))\n",
    "# counts_left, edges_left = np.histogram(data_left, bins=bins)\n",
    "# ax.barh(edges_left[:-1], -counts_left, height=np.diff(edges_left), color='skyblue', alpha=0.7, label='power')\n",
    "\n",
    "# counts_right, edges_right = np.histogram(data_right, bins=bins)\n",
    "# ax.barh(edges_right[:-1], counts_right, height=np.diff(edges_right), color='salmon', alpha=0.7, label='toughness')\n",
    "\n",
    "# max_freq = max(counts_left.max(), counts_right.max())\n",
    "# ax.set_xlim(-max_freq - 1, max_freq + 1)\n",
    "# ax.legend(loc=\"upper right\")\n",
    "\n",
    "# # 2b)\n",
    "\n",
    "# # Calculate cumulative percentages for both sides\n",
    "# cum_left = np.cumsum(counts_left) / np.sum(counts_left) * 100\n",
    "# cum_right = np.cumsum(counts_right) / np.sum(counts_right) * 100\n",
    "\n",
    "# # Plot cumulative curves for each side\n",
    "# ax.plot(-cum_left, edges_left[:-1] + np.diff(edges_left) / 2, color='blue', linestyle='--', linewidth=2, label='Cumulative % (Variable 1)')\n",
    "# ax.plot(cum_right, edges_right[:-1] + np.diff(edges_right) / 2, color='red', linestyle='--', linewidth=2, label='Cumulative % (Variable 2)')\n",
    "\n"
   ]
  },
  {
   "cell_type": "markdown",
   "metadata": {
    "id": "iVbwhExelPaN"
   },
   "source": [
    "## 3) Interactions\n",
    "\n",
    "a quel point le set est interactif ?\n",
    "000 - définir ce qu'est une interaction\n",
    "- ratio de permanents\n",
    "- pourcentage d'interaction\n",
    "- la \"vitesse\" de l'interaction = distribution de mana value des sorts interactifs\n",
    "- type d'interaction : single-target removal + combat trick\n",
    "- color pie"
   ]
  },
  {
   "cell_type": "code",
   "execution_count": 89,
   "metadata": {
    "id": "4kutWBahZD1Y"
   },
   "outputs": [
    {
     "ename": "NameError",
     "evalue": "name 'type_index' is not defined",
     "output_type": "error",
     "traceback": [
      "\u001b[0;31m---------------------------------------------------------------------------\u001b[0m",
      "\u001b[0;31mNameError\u001b[0m                                 Traceback (most recent call last)",
      "\u001b[0;32m<ipython-input-89-2bd82ff0b3ff>\u001b[0m in \u001b[0;36m<module>\u001b[0;34m\u001b[0m\n\u001b[1;32m      4\u001b[0m   \u001b[0;32mreturn\u001b[0m \u001b[0many\u001b[0m\u001b[0;34m(\u001b[0m\u001b[0mitem\u001b[0m \u001b[0;32min\u001b[0m \u001b[0mitems_wanted\u001b[0m \u001b[0;32mfor\u001b[0m \u001b[0mitem\u001b[0m \u001b[0;32min\u001b[0m \u001b[0mitems_tbc\u001b[0m\u001b[0;34m)\u001b[0m\u001b[0;34m\u001b[0m\u001b[0;34m\u001b[0m\u001b[0m\n\u001b[1;32m      5\u001b[0m \u001b[0;34m\u001b[0m\u001b[0m\n\u001b[0;32m----> 6\u001b[0;31m \u001b[0mpermanent_index\u001b[0m \u001b[0;34m=\u001b[0m \u001b[0;34m[\u001b[0m\u001b[0mitem\u001b[0m \u001b[0;32mfor\u001b[0m \u001b[0mitem\u001b[0m \u001b[0;32min\u001b[0m \u001b[0mtype_index\u001b[0m \u001b[0;32mif\u001b[0m \u001b[0;34m(\u001b[0m\u001b[0mitem\u001b[0m \u001b[0;34m!=\u001b[0m\u001b[0;34m'Instant'\u001b[0m \u001b[0;32mand\u001b[0m \u001b[0mitem\u001b[0m\u001b[0;34m!=\u001b[0m\u001b[0;34m'Sorcery'\u001b[0m\u001b[0;34m)\u001b[0m\u001b[0;34m]\u001b[0m\u001b[0;34m\u001b[0m\u001b[0;34m\u001b[0m\u001b[0m\n\u001b[0m\u001b[1;32m      7\u001b[0m \u001b[0mcards\u001b[0m\u001b[0;34m[\u001b[0m\u001b[0;34m'types'\u001b[0m\u001b[0;34m]\u001b[0m\u001b[0;34m[\u001b[0m\u001b[0mcards\u001b[0m\u001b[0;34m[\u001b[0m\u001b[0;34m'types'\u001b[0m\u001b[0;34m]\u001b[0m\u001b[0;34m.\u001b[0m\u001b[0mapply\u001b[0m\u001b[0;34m(\u001b[0m\u001b[0;32mlambda\u001b[0m \u001b[0mx\u001b[0m\u001b[0;34m:\u001b[0m \u001b[0mchecklist\u001b[0m\u001b[0;34m(\u001b[0m\u001b[0mx\u001b[0m\u001b[0;34m,\u001b[0m\u001b[0mpermanent_index\u001b[0m\u001b[0;34m)\u001b[0m\u001b[0;34m==\u001b[0m\u001b[0;32mFalse\u001b[0m\u001b[0;34m)\u001b[0m\u001b[0;34m]\u001b[0m \u001b[0;31m#non-permanent\u001b[0m\u001b[0;34m\u001b[0m\u001b[0;34m\u001b[0m\u001b[0m\n\u001b[1;32m      8\u001b[0m \u001b[0mcards\u001b[0m\u001b[0;34m[\u001b[0m\u001b[0;34m'types'\u001b[0m\u001b[0;34m]\u001b[0m\u001b[0;34m[\u001b[0m\u001b[0mcards\u001b[0m\u001b[0;34m[\u001b[0m\u001b[0;34m'types'\u001b[0m\u001b[0;34m]\u001b[0m\u001b[0;34m.\u001b[0m\u001b[0mapply\u001b[0m\u001b[0;34m(\u001b[0m\u001b[0;32mlambda\u001b[0m \u001b[0mx\u001b[0m\u001b[0;34m:\u001b[0m \u001b[0mchecklist\u001b[0m\u001b[0;34m(\u001b[0m\u001b[0mx\u001b[0m\u001b[0;34m,\u001b[0m\u001b[0mpermanent_index\u001b[0m\u001b[0;34m)\u001b[0m\u001b[0;34m==\u001b[0m\u001b[0;32mTrue\u001b[0m\u001b[0;34m)\u001b[0m\u001b[0;34m]\u001b[0m  \u001b[0;31m#permanents\u001b[0m\u001b[0;34m\u001b[0m\u001b[0;34m\u001b[0m\u001b[0m\n",
      "\u001b[0;31mNameError\u001b[0m: name 'type_index' is not defined"
     ]
    }
   ],
   "source": [
    "# ratio of permanents\n",
    "\n",
    "def checklist(items_wanted, items_tbc):\n",
    "  return any(item in items_wanted for item in items_tbc)\n",
    "\n",
    "permanent_index = [item for item in type_index if (item !='Instant' and item!='Sorcery')]\n",
    "cards['types'][cards['types'].apply(lambda x: checklist(x,permanent_index)==False)] #non-permanent\n",
    "cards['types'][cards['types'].apply(lambda x: checklist(x,permanent_index)==True)]  #permanents\n",
    "\n",
    "print('permanent ratio = ' + str(len(cards['types'][cards['types'].apply(lambda x: checklist(x,permanent_index)==True)])/len(cards)*100) + ' %')"
   ]
  },
  {
   "cell_type": "code",
   "execution_count": null,
   "metadata": {
    "id": "8VUr_i1fnkQI"
   },
   "outputs": [],
   "source": [
    "# get interactive cards\n",
    "\n",
    "interaction_list = [\n",
    "    'destroy',\n",
    "    'exile',\n",
    "    'counter',\n",
    "    'target'\n",
    "]\n",
    "\n",
    "\n",
    "\n",
    "\n",
    "def interactive_card(str):\n",
    "  if any(word in str for word in interaction_list):\n",
    "    return True\n",
    "  else:\n",
    "    return False\n",
    "\n",
    "cards[cards['text'].apply(interactive_card)]"
   ]
  },
  {
   "cell_type": "markdown",
   "metadata": {
    "id": "dWiTKCBpllJo"
   },
   "source": [
    "## 4) Fixers\n",
    "\n",
    "a quel point une carte d'une autre couleur est facile à jouer ? => tout mettre sur une color pie\n",
    "- carte qui produisent du mana coloré : dorks, rock, treasures\n",
    "- type de mana produit\n",
    "- cartes à plusieurs pips (en % des cartes)\n"
   ]
  },
  {
   "cell_type": "markdown",
   "metadata": {
    "id": "Rmu_nyWmq2ot"
   },
   "source": [
    "# **Interset**"
   ]
  },
  {
   "cell_type": "code",
   "execution_count": null,
   "metadata": {
    "id": "x8ZLhR14q57P"
   },
   "outputs": [],
   "source": [
    "# toutes les stats interset\n",
    "\n",
    "# mettre en input le nombre et la temporalité des sets à comparer (tout le modern, 4 derniers sets, etc)\n",
    "# écrire une ligne d'input\n",
    "\n",
    "# appeler les fonctions précédentes\n",
    "# ranger dans des listes / df pour faire les statistiques ensuite"
   ]
  }
 ],
 "metadata": {
  "colab": {
   "authorship_tag": "ABX9TyPy2LjhJnPyRHGdMfqiDqIp",
   "mount_file_id": "15DupMAgsgmzLDVl_dxBVRIcCJ9YJg-H6",
   "private_outputs": true,
   "provenance": []
  },
  "kernelspec": {
   "display_name": "Python 3",
   "language": "python",
   "name": "python3"
  },
  "language_info": {
   "codemirror_mode": {
    "name": "ipython",
    "version": 3
   },
   "file_extension": ".py",
   "mimetype": "text/x-python",
   "name": "python",
   "nbconvert_exporter": "python",
   "pygments_lexer": "ipython3",
   "version": "3.8.5"
  }
 },
 "nbformat": 4,
 "nbformat_minor": 1
}
